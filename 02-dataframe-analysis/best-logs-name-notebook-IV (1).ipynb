{
 "cells": [
  {
   "cell_type": "code",
   "execution_count": 97,
   "id": "9fb89870-6b2e-4ef5-89e8-f04216165deb",
   "metadata": {
    "tags": []
   },
   "outputs": [],
   "source": [
    "import pandas as pd\n",
    "import numpy as np\n",
    "from pyspark.sql.functions import col\n",
    "from waispark.core import create_spark_session\n",
    "from deltautils.delta_core import TableType, DeltaMetaTags, CompositeOperationTags\n",
    "from waispark.delta_lake import read_from_delta\n",
    "import mlnbddata.path as pathd\n",
    "from pyspark.sql import functions as F"
   ]
  },
  {
   "cell_type": "code",
   "execution_count": 2,
   "id": "ff1aadcc-ec00-40b9-bc60-caf3be90b3c1",
   "metadata": {
    "tags": []
   },
   "outputs": [],
   "source": [
    "pd.set_option(\"max_colwidth\", None)\n",
    "pd.set_option(\"display.max_columns\", None)"
   ]
  },
  {
   "cell_type": "code",
   "execution_count": 3,
   "id": "6215ba11-0392-4d85-bf20-5443f15886dd",
   "metadata": {
    "tags": []
   },
   "outputs": [
    {
     "name": "stderr",
     "output_type": "stream",
     "text": [
      "/opt/spark/bin/load-spark-env.sh: line 68: ps: command not found\n"
     ]
    },
    {
     "name": "stdout",
     "output_type": "stream",
     "text": [
      ":: loading settings :: url = jar:file:/opt/spark/jars/ivy-2.5.1.jar!/org/apache/ivy/core/settings/ivysettings.xml\n"
     ]
    },
    {
     "name": "stderr",
     "output_type": "stream",
     "text": [
      "Ivy Default Cache set to: /home/jovyan/.ivy2/cache\n",
      "The jars for the packages stored in: /home/jovyan/.ivy2/jars\n",
      "io.delta#delta-core_2.12 added as a dependency\n",
      ":: resolving dependencies :: org.apache.spark#spark-submit-parent-126279c0-2fdf-4228-8215-ea66f709b366;1.0\n",
      "\tconfs: [default]\n",
      "\tfound io.delta#delta-core_2.12;2.4.0 in central\n",
      "\tfound io.delta#delta-storage;2.4.0 in central\n",
      "\tfound org.antlr#antlr4-runtime;4.9.3 in central\n",
      ":: resolution report :: resolve 285ms :: artifacts dl 9ms\n",
      "\t:: modules in use:\n",
      "\tio.delta#delta-core_2.12;2.4.0 from central in [default]\n",
      "\tio.delta#delta-storage;2.4.0 from central in [default]\n",
      "\torg.antlr#antlr4-runtime;4.9.3 from central in [default]\n",
      "\t---------------------------------------------------------------------\n",
      "\t|                  |            modules            ||   artifacts   |\n",
      "\t|       conf       | number| search|dwnlded|evicted|| number|dwnlded|\n",
      "\t---------------------------------------------------------------------\n",
      "\t|      default     |   3   |   0   |   0   |   0   ||   3   |   0   |\n",
      "\t---------------------------------------------------------------------\n",
      ":: retrieving :: org.apache.spark#spark-submit-parent-126279c0-2fdf-4228-8215-ea66f709b366\n",
      "\tconfs: [default]\n",
      "\t0 artifacts copied, 3 already retrieved (0kB/9ms)\n",
      "24/05/07 08:17:32 WARN NativeCodeLoader: Unable to load native-hadoop library for your platform... using builtin-java classes where applicable\n",
      "Setting default log level to \"WARN\".\n",
      "To adjust logging level use sc.setLogLevel(newLevel). For SparkR, use setLogLevel(newLevel).\n"
     ]
    }
   ],
   "source": [
    "spark = create_spark_session(\"best-logs-name-notebook-IV\", is_local=True)"
   ]
  },
  {
   "cell_type": "markdown",
   "id": "bd245f9d-2ab2-4074-94d2-7860302abcec",
   "metadata": {},
   "source": [
    "### Workspace definition"
   ]
  },
  {
   "cell_type": "code",
   "execution_count": 4,
   "id": "6d4453c8-9cd1-4f05-9ec0-54b0c61538d5",
   "metadata": {
    "tags": []
   },
   "outputs": [],
   "source": [
    "basepath = \"/hpda/\"\n",
    "company = \"Schlumberger\"\n",
    "input_run = \"1\"\n",
    "\n",
    "fs = pathd.DataFileSystem(root=basepath)\n",
    "\n",
    "workspace_id = \"b8a46742-f715-4023-aac2-d8499bbd707f\""
   ]
  },
  {
   "cell_type": "markdown",
   "id": "5244861a-eb40-4e60-804c-a0ea75458409",
   "metadata": {},
   "source": [
    "## Candidate logs with pandas"
   ]
  },
  {
   "cell_type": "code",
   "execution_count": 5,
   "id": "34122a01-5a88-4406-8036-80b9a318fc90",
   "metadata": {
    "tags": []
   },
   "outputs": [],
   "source": [
    "dd = pathd.DataDescriptor(company=company, data_quality=pathd.DataQuality.COMP, \n",
    "                          data_type=pathd.DataType.ASSIGN, study_id=workspace_id,\n",
    "                          run_id=input_run)\n",
    "\n",
    "df_best_logs = pd.read_parquet(fs.getPath(dd), filters=[[(\"selected\", \"=\", True), (\"alias\", \"!=\", \"DS_INDEX\")]])"
   ]
  },
  {
   "cell_type": "code",
   "execution_count": 6,
   "id": "bef3b662-c5cc-497a-b001-cd4861c0be7c",
   "metadata": {
    "tags": []
   },
   "outputs": [
    {
     "data": {
      "text/html": [
       "<div>\n",
       "<style scoped>\n",
       "    .dataframe tbody tr th:only-of-type {\n",
       "        vertical-align: middle;\n",
       "    }\n",
       "\n",
       "    .dataframe tbody tr th {\n",
       "        vertical-align: top;\n",
       "    }\n",
       "\n",
       "    .dataframe thead th {\n",
       "        text-align: right;\n",
       "    }\n",
       "</style>\n",
       "<table border=\"1\" class=\"dataframe\">\n",
       "  <thead>\n",
       "    <tr style=\"text-align: right;\">\n",
       "      <th></th>\n",
       "      <th>WAI_WELL_H</th>\n",
       "      <th>WAI_WELL_NAME</th>\n",
       "      <th>alias</th>\n",
       "      <th>curvename</th>\n",
       "      <th>welllog_Name</th>\n",
       "      <th>ds_ref_id</th>\n",
       "    </tr>\n",
       "  </thead>\n",
       "  <tbody>\n",
       "    <tr>\n",
       "      <th>0</th>\n",
       "      <td>d6b11be7aa5eade440cf61cb5e723ab97f577a9689d5a96de544a51a7f20419e</td>\n",
       "      <td>4903526742</td>\n",
       "      <td>GR</td>\n",
       "      <td>GR</td>\n",
       "      <td>3526742E</td>\n",
       "      <td>14e625e722fda9d6f8c074e5a1d2839bda65fc8a1d63bf88b7a2fef59d2a2522</td>\n",
       "    </tr>\n",
       "    <tr>\n",
       "      <th>1</th>\n",
       "      <td>2199194ab8ab39b217d368c274a0ef0771a6a27fb5c159b5834ce94f30cbdc66</td>\n",
       "      <td>4903528243</td>\n",
       "      <td>DTC</td>\n",
       "      <td>DT</td>\n",
       "      <td>3528243A</td>\n",
       "      <td>1c057fe39d2c18a24ccaa33099005ef402d3ee301a5ea721741b8b5622487bd9</td>\n",
       "    </tr>\n",
       "    <tr>\n",
       "      <th>2</th>\n",
       "      <td>2199194ab8ab39b217d368c274a0ef0771a6a27fb5c159b5834ce94f30cbdc66</td>\n",
       "      <td>4903528243</td>\n",
       "      <td>GR</td>\n",
       "      <td>GR</td>\n",
       "      <td>3528243A</td>\n",
       "      <td>1c057fe39d2c18a24ccaa33099005ef402d3ee301a5ea721741b8b5622487bd9</td>\n",
       "    </tr>\n",
       "    <tr>\n",
       "      <th>3</th>\n",
       "      <td>d6b11be7aa5eade440cf61cb5e723ab97f577a9689d5a96de544a51a7f20419e</td>\n",
       "      <td>4903526742</td>\n",
       "      <td>SHALRES</td>\n",
       "      <td>AT10</td>\n",
       "      <td>3526742C</td>\n",
       "      <td>23a748ebb5783c670f996c8e5333e9339068efbf780fc3112849db33fcddec6f</td>\n",
       "    </tr>\n",
       "    <tr>\n",
       "      <th>4</th>\n",
       "      <td>d6b11be7aa5eade440cf61cb5e723ab97f577a9689d5a96de544a51a7f20419e</td>\n",
       "      <td>4903526742</td>\n",
       "      <td>MEDRES</td>\n",
       "      <td>AT60</td>\n",
       "      <td>3526742C</td>\n",
       "      <td>23a748ebb5783c670f996c8e5333e9339068efbf780fc3112849db33fcddec6f</td>\n",
       "    </tr>\n",
       "  </tbody>\n",
       "</table>\n",
       "</div>"
      ],
      "text/plain": [
       "                                                         WAI_WELL_H  \\\n",
       "0  d6b11be7aa5eade440cf61cb5e723ab97f577a9689d5a96de544a51a7f20419e   \n",
       "1  2199194ab8ab39b217d368c274a0ef0771a6a27fb5c159b5834ce94f30cbdc66   \n",
       "2  2199194ab8ab39b217d368c274a0ef0771a6a27fb5c159b5834ce94f30cbdc66   \n",
       "3  d6b11be7aa5eade440cf61cb5e723ab97f577a9689d5a96de544a51a7f20419e   \n",
       "4  d6b11be7aa5eade440cf61cb5e723ab97f577a9689d5a96de544a51a7f20419e   \n",
       "\n",
       "  WAI_WELL_NAME    alias curvename welllog_Name  \\\n",
       "0    4903526742       GR        GR     3526742E   \n",
       "1    4903528243      DTC        DT     3528243A   \n",
       "2    4903528243       GR        GR     3528243A   \n",
       "3    4903526742  SHALRES      AT10     3526742C   \n",
       "4    4903526742   MEDRES      AT60     3526742C   \n",
       "\n",
       "                                                          ds_ref_id  \n",
       "0  14e625e722fda9d6f8c074e5a1d2839bda65fc8a1d63bf88b7a2fef59d2a2522  \n",
       "1  1c057fe39d2c18a24ccaa33099005ef402d3ee301a5ea721741b8b5622487bd9  \n",
       "2  1c057fe39d2c18a24ccaa33099005ef402d3ee301a5ea721741b8b5622487bd9  \n",
       "3  23a748ebb5783c670f996c8e5333e9339068efbf780fc3112849db33fcddec6f  \n",
       "4  23a748ebb5783c670f996c8e5333e9339068efbf780fc3112849db33fcddec6f  "
      ]
     },
     "execution_count": 6,
     "metadata": {},
     "output_type": "execute_result"
    }
   ],
   "source": [
    "# Adding the well name\n",
    "dd = pathd.DataDescriptor(company=company, data_quality=pathd.DataQuality.FAM,\n",
    "                          data_type=pathd.DataType.DSET, study_id=workspace_id,\n",
    "                          run_id=input_run)\n",
    "\n",
    "df_fam_dset = pd.read_parquet(fs.getPath(dd), columns=[\"ds_ref_id\", \"WAI_WELL_H\", \"WAI_WELL_NAME\", \"welllog_Name\"]).drop_duplicates()\n",
    "df_best_logs = pd.merge(df_best_logs, df_fam_dset, how=\"inner\", on=\"ds_ref_id\")\n",
    "df_best_logs = df_best_logs[[\"WAI_WELL_H\", \"WAI_WELL_NAME\", \"alias\", \"curvename\", \"welllog_Name\", \"ds_ref_id\"]]\n",
    "\n",
    "df_best_logs.head()"
   ]
  },
  {
   "cell_type": "markdown",
   "id": "13d3f3a5-0e32-41b2-84df-106c4809171d",
   "metadata": {},
   "source": [
    "## Wellbore log data with spark"
   ]
  },
  {
   "cell_type": "code",
   "execution_count": 7,
   "id": "36bba466-4195-42b8-837d-7c5dda147d39",
   "metadata": {
    "tags": []
   },
   "outputs": [
    {
     "name": "stderr",
     "output_type": "stream",
     "text": [
      "                                                                                \r"
     ]
    }
   ],
   "source": [
    "# Best logs\n",
    "dd = pathd.DataDescriptor(company=company, data_quality=pathd.DataQuality.COMP, \n",
    "                          data_type=pathd.DataType.ASSIGN, study_id=workspace_id,\n",
    "                          run_id=input_run)\n",
    "\n",
    "comp_assign = spark.read.parquet(fs.getPath(dd))\n",
    "comp_assign = comp_assign.filter((col(\"selected\") == True) & (col(\"alias\")  != \"DS_INDEX\"))"
   ]
  },
  {
   "cell_type": "code",
   "execution_count": 8,
   "id": "c933d421-91c4-4dc1-bdd6-54920d3114ec",
   "metadata": {
    "tags": []
   },
   "outputs": [],
   "source": [
    "# unstack DS_INDEX\n",
    "dd = pathd.DataDescriptor(company=company, data_quality=pathd.DataQuality.FAMQC,\n",
    "                          data_type=pathd.DataType.UDATA, study_id=workspace_id, run_id=input_run)\n",
    "\n",
    "famqc_udata = spark.read.parquet(fs.getPath(dd))\n",
    "famqc_udata = famqc_udata.withColumnRenamed(\"WAI_WELL_H\", \"WAI_WELL_ID\")\n",
    "\n",
    "famqc_udata = famqc_udata.join(comp_assign.select(col(\"ds_ref_id\"), col(\"alias\"), col(\"curvename\")),\n",
    "                               on=[\"ds_ref_id\", \"alias\", \"curvename\"], how=\"inner\")"
   ]
  },
  {
   "cell_type": "code",
   "execution_count": 9,
   "id": "f278efc0-e1d8-4c7f-86aa-1a06aac03450",
   "metadata": {
    "tags": []
   },
   "outputs": [
    {
     "name": "stdout",
     "output_type": "stream",
     "text": [
      "+----------------------------------------------------------------+-------+---------+---+----+-----+-------------+--------+--------+----------------------------------------------------------------+\n",
      "|ds_ref_id                                                       |alias  |curvename|rn |data|unit |WAI_WELL_NAME|DS_INDEX|log_name|WAI_WELL_ID                                                     |\n",
      "+----------------------------------------------------------------+-------+---------+---+----+-----+-------------+--------+--------+----------------------------------------------------------------+\n",
      "|4beb646250eaf00a12e003eda11435e2dc71e098370d889fc30e78dc88e4d524|SHALRES|AT10     |0  |null|ohm.m|4903527827   |1163.0  |3527827D|4aef2961d7aafbe99a853027885f9c6cca3e449471c72b15bf80d370f1838e31|\n",
      "|4beb646250eaf00a12e003eda11435e2dc71e098370d889fc30e78dc88e4d524|SHALRES|AT10     |1  |null|ohm.m|4903527827   |1163.5  |3527827D|4aef2961d7aafbe99a853027885f9c6cca3e449471c72b15bf80d370f1838e31|\n",
      "|4beb646250eaf00a12e003eda11435e2dc71e098370d889fc30e78dc88e4d524|SHALRES|AT10     |2  |null|ohm.m|4903527827   |1164.0  |3527827D|4aef2961d7aafbe99a853027885f9c6cca3e449471c72b15bf80d370f1838e31|\n",
      "|4beb646250eaf00a12e003eda11435e2dc71e098370d889fc30e78dc88e4d524|SHALRES|AT10     |3  |null|ohm.m|4903527827   |1164.5  |3527827D|4aef2961d7aafbe99a853027885f9c6cca3e449471c72b15bf80d370f1838e31|\n",
      "|4beb646250eaf00a12e003eda11435e2dc71e098370d889fc30e78dc88e4d524|SHALRES|AT10     |4  |null|ohm.m|4903527827   |1165.0  |3527827D|4aef2961d7aafbe99a853027885f9c6cca3e449471c72b15bf80d370f1838e31|\n",
      "+----------------------------------------------------------------+-------+---------+---+----+-----+-------------+--------+--------+----------------------------------------------------------------+\n",
      "only showing top 5 rows\n",
      "\n"
     ]
    }
   ],
   "source": [
    "famqc_udata.drop(col(\"descr\")).show(5, truncate=False)"
   ]
  },
  {
   "cell_type": "code",
   "execution_count": 10,
   "id": "ae45cf6c-9cc2-4c3b-b95e-1d6554a2cd73",
   "metadata": {
    "tags": []
   },
   "outputs": [
    {
     "name": "stderr",
     "output_type": "stream",
     "text": [
      "                                                                                \r"
     ]
    }
   ],
   "source": [
    "df_famqc_udata = famqc_udata.toPandas()"
   ]
  },
  {
   "cell_type": "code",
   "execution_count": 21,
   "id": "6f0a87d6-53f6-40e0-977a-7e66837f8f99",
   "metadata": {
    "tags": []
   },
   "outputs": [
    {
     "data": {
      "text/html": [
       "<div>\n",
       "<style scoped>\n",
       "    .dataframe tbody tr th:only-of-type {\n",
       "        vertical-align: middle;\n",
       "    }\n",
       "\n",
       "    .dataframe tbody tr th {\n",
       "        vertical-align: top;\n",
       "    }\n",
       "\n",
       "    .dataframe thead th {\n",
       "        text-align: right;\n",
       "    }\n",
       "</style>\n",
       "<table border=\"1\" class=\"dataframe\">\n",
       "  <thead>\n",
       "    <tr style=\"text-align: right;\">\n",
       "      <th></th>\n",
       "      <th>ds_ref_id</th>\n",
       "      <th>alias</th>\n",
       "      <th>curvename</th>\n",
       "      <th>log_name</th>\n",
       "    </tr>\n",
       "  </thead>\n",
       "  <tbody>\n",
       "    <tr>\n",
       "      <th>40083</th>\n",
       "      <td>4beb646250eaf00a12e003eda11435e2dc71e098370d889fc30e78dc88e4d524</td>\n",
       "      <td>GR</td>\n",
       "      <td>HGR</td>\n",
       "      <td>3527827D</td>\n",
       "    </tr>\n",
       "    <tr>\n",
       "      <th>40084</th>\n",
       "      <td>4beb646250eaf00a12e003eda11435e2dc71e098370d889fc30e78dc88e4d524</td>\n",
       "      <td>GR</td>\n",
       "      <td>HGR</td>\n",
       "      <td>3527827D</td>\n",
       "    </tr>\n",
       "    <tr>\n",
       "      <th>40085</th>\n",
       "      <td>4beb646250eaf00a12e003eda11435e2dc71e098370d889fc30e78dc88e4d524</td>\n",
       "      <td>GR</td>\n",
       "      <td>HGR</td>\n",
       "      <td>3527827D</td>\n",
       "    </tr>\n",
       "    <tr>\n",
       "      <th>40086</th>\n",
       "      <td>4beb646250eaf00a12e003eda11435e2dc71e098370d889fc30e78dc88e4d524</td>\n",
       "      <td>GR</td>\n",
       "      <td>HGR</td>\n",
       "      <td>3527827D</td>\n",
       "    </tr>\n",
       "    <tr>\n",
       "      <th>40087</th>\n",
       "      <td>4beb646250eaf00a12e003eda11435e2dc71e098370d889fc30e78dc88e4d524</td>\n",
       "      <td>GR</td>\n",
       "      <td>HGR</td>\n",
       "      <td>3527827D</td>\n",
       "    </tr>\n",
       "  </tbody>\n",
       "</table>\n",
       "</div>"
      ],
      "text/plain": [
       "                                                              ds_ref_id alias  \\\n",
       "40083  4beb646250eaf00a12e003eda11435e2dc71e098370d889fc30e78dc88e4d524    GR   \n",
       "40084  4beb646250eaf00a12e003eda11435e2dc71e098370d889fc30e78dc88e4d524    GR   \n",
       "40085  4beb646250eaf00a12e003eda11435e2dc71e098370d889fc30e78dc88e4d524    GR   \n",
       "40086  4beb646250eaf00a12e003eda11435e2dc71e098370d889fc30e78dc88e4d524    GR   \n",
       "40087  4beb646250eaf00a12e003eda11435e2dc71e098370d889fc30e78dc88e4d524    GR   \n",
       "\n",
       "      curvename  log_name  \n",
       "40083       HGR  3527827D  \n",
       "40084       HGR  3527827D  \n",
       "40085       HGR  3527827D  \n",
       "40086       HGR  3527827D  \n",
       "40087       HGR  3527827D  "
      ]
     },
     "execution_count": 21,
     "metadata": {},
     "output_type": "execute_result"
    }
   ],
   "source": [
    "df_famqc_udata[[\"ds_ref_id\", \"alias\", \"curvename\", \"log_name\"]][df_famqc_udata[\"alias\"]==\"GR\"].head()"
   ]
  },
  {
   "cell_type": "markdown",
   "id": "d919f84e-363b-4c6b-9759-1e39a4373040",
   "metadata": {},
   "source": [
    "## Composite and its best logs used to create it\n",
    "\n",
    "This example only shows results for GR, DEEPRES and RHOB. Notice that column with suffix \"_orig\" mean the \"ds_ref_id\" used to created the composite in the respective \"DS_INDEX\""
   ]
  },
  {
   "cell_type": "code",
   "execution_count": 11,
   "id": "c612d6ec-7349-4d14-b84a-14d6c58d291a",
   "metadata": {
    "tags": []
   },
   "outputs": [
    {
     "name": "stderr",
     "output_type": "stream",
     "text": [
      "/opt/conda/lib/python3.10/site-packages/pyspark/sql/pandas/conversion.py:251: FutureWarning: Passing unit-less datetime64 dtype to .astype is deprecated and will raise in a future version. Pass 'datetime64[ns]' instead\n",
      "  series = series.astype(t, copy=False)\n"
     ]
    },
    {
     "name": "stdout",
     "output_type": "stream",
     "text": [
      "\u001b[2m2024-05-07 08:23:50\u001b[0m [\u001b[32m\u001b[1minfo     \u001b[0m] \u001b[1mDeltaLakeSparkReader : Requested version of delta table when multiple versions exist after applying filters: latest\u001b[0m\n",
      "\u001b[2m2024-05-07 08:23:50\u001b[0m [\u001b[33m\u001b[1mwarning  \u001b[0m] \u001b[1m1 different versions found matching the filtering criteria\u001b[0m\n",
      "\u001b[2m2024-05-07 08:23:50\u001b[0m [\u001b[33m\u001b[1mwarning  \u001b[0m] \u001b[1m[(0, \"{'tag': 'QC_DATA_CREATE'}\")]\u001b[0m\n",
      "\u001b[2m2024-05-07 08:23:50\u001b[0m [\u001b[32m\u001b[1minfo     \u001b[0m] \u001b[1mDeltaLakeSparkReader : loading version 0 of delta table...\u001b[0m\n"
     ]
    },
    {
     "name": "stderr",
     "output_type": "stream",
     "text": [
      "/opt/conda/lib/python3.10/site-packages/pyspark/sql/pandas/conversion.py:251: FutureWarning: Passing unit-less datetime64 dtype to .astype is deprecated and will raise in a future version. Pass 'datetime64[ns]' instead\n",
      "  series = series.astype(t, copy=False)\n"
     ]
    }
   ],
   "source": [
    "compqc_data_df = read_from_delta(spark, basepath=basepath, study_id=workspace_id,\n",
    "                                 table_type=TableType.COMPQCDATA,\n",
    "                                 tag=CompositeOperationTags.QC_DATA_CREATE)"
   ]
  },
  {
   "cell_type": "code",
   "execution_count": 12,
   "id": "8d8c17ab-ec08-49fb-b28a-3d75fd206a32",
   "metadata": {
    "tags": []
   },
   "outputs": [
    {
     "name": "stderr",
     "output_type": "stream",
     "text": [
      "24/05/07 08:24:03 WARN package: Truncated the string representation of a plan since it was too large. This behavior can be adjusted by setting 'spark.sql.debug.maxToStringFields'.\n",
      "[Stage 14:==================================================>     (45 + 5) / 50]\r"
     ]
    },
    {
     "name": "stdout",
     "output_type": "stream",
     "text": [
      "+----------------------------------------------------------------+--------+------------------+--------------------------------------------------------------------+-------+------------+----+---------+\n",
      "|WAI_WELL_H                                                      |DS_INDEX|GR                |GR_orig                                                             |DEEPRES|DEEPRES_orig|RHOB|RHOB_orig|\n",
      "+----------------------------------------------------------------+--------+------------------+--------------------------------------------------------------------+-------+------------+----+---------+\n",
      "|d6b11be7aa5eade440cf61cb5e723ab97f577a9689d5a96de544a51a7f20419e|6438.5  |102.59100341796876|14e625e722fda9d6f8c074e5a1d2839bda65fc8a1d63bf88b7a2fef59d2a2522%GR%|null   |nan         |null|nan      |\n",
      "|d6b11be7aa5eade440cf61cb5e723ab97f577a9689d5a96de544a51a7f20419e|6439.0  |112.41329956054688|14e625e722fda9d6f8c074e5a1d2839bda65fc8a1d63bf88b7a2fef59d2a2522%GR%|null   |nan         |null|nan      |\n",
      "|d6b11be7aa5eade440cf61cb5e723ab97f577a9689d5a96de544a51a7f20419e|6439.5  |111.70240020751952|14e625e722fda9d6f8c074e5a1d2839bda65fc8a1d63bf88b7a2fef59d2a2522%GR%|null   |nan         |null|nan      |\n",
      "|d6b11be7aa5eade440cf61cb5e723ab97f577a9689d5a96de544a51a7f20419e|6440.0  |108.92320251464844|14e625e722fda9d6f8c074e5a1d2839bda65fc8a1d63bf88b7a2fef59d2a2522%GR%|null   |nan         |null|nan      |\n",
      "|d6b11be7aa5eade440cf61cb5e723ab97f577a9689d5a96de544a51a7f20419e|6440.5  |106.33270263671876|14e625e722fda9d6f8c074e5a1d2839bda65fc8a1d63bf88b7a2fef59d2a2522%GR%|null   |nan         |null|nan      |\n",
      "|d6b11be7aa5eade440cf61cb5e723ab97f577a9689d5a96de544a51a7f20419e|6441.0  |99.07240295410156 |14e625e722fda9d6f8c074e5a1d2839bda65fc8a1d63bf88b7a2fef59d2a2522%GR%|null   |nan         |null|nan      |\n",
      "|d6b11be7aa5eade440cf61cb5e723ab97f577a9689d5a96de544a51a7f20419e|6441.5  |95.07869720458984 |14e625e722fda9d6f8c074e5a1d2839bda65fc8a1d63bf88b7a2fef59d2a2522%GR%|null   |nan         |null|nan      |\n",
      "|d6b11be7aa5eade440cf61cb5e723ab97f577a9689d5a96de544a51a7f20419e|6442.0  |99.67530059814452 |14e625e722fda9d6f8c074e5a1d2839bda65fc8a1d63bf88b7a2fef59d2a2522%GR%|null   |nan         |null|nan      |\n",
      "|d6b11be7aa5eade440cf61cb5e723ab97f577a9689d5a96de544a51a7f20419e|6442.5  |99.67530059814452 |14e625e722fda9d6f8c074e5a1d2839bda65fc8a1d63bf88b7a2fef59d2a2522%GR%|null   |nan         |null|nan      |\n",
      "|d6b11be7aa5eade440cf61cb5e723ab97f577a9689d5a96de544a51a7f20419e|6443.0  |104.8563003540039 |14e625e722fda9d6f8c074e5a1d2839bda65fc8a1d63bf88b7a2fef59d2a2522%GR%|null   |nan         |null|nan      |\n",
      "|d6b11be7aa5eade440cf61cb5e723ab97f577a9689d5a96de544a51a7f20419e|6443.5  |104.8563003540039 |14e625e722fda9d6f8c074e5a1d2839bda65fc8a1d63bf88b7a2fef59d2a2522%GR%|null   |nan         |null|nan      |\n",
      "|d6b11be7aa5eade440cf61cb5e723ab97f577a9689d5a96de544a51a7f20419e|6444.0  |99.7489013671875  |14e625e722fda9d6f8c074e5a1d2839bda65fc8a1d63bf88b7a2fef59d2a2522%GR%|null   |nan         |null|nan      |\n",
      "|d6b11be7aa5eade440cf61cb5e723ab97f577a9689d5a96de544a51a7f20419e|6444.5  |97.73300170898438 |14e625e722fda9d6f8c074e5a1d2839bda65fc8a1d63bf88b7a2fef59d2a2522%GR%|null   |nan         |null|nan      |\n",
      "|d6b11be7aa5eade440cf61cb5e723ab97f577a9689d5a96de544a51a7f20419e|6445.0  |92.552001953125   |14e625e722fda9d6f8c074e5a1d2839bda65fc8a1d63bf88b7a2fef59d2a2522%GR%|null   |nan         |null|nan      |\n",
      "|d6b11be7aa5eade440cf61cb5e723ab97f577a9689d5a96de544a51a7f20419e|6445.5  |78.9520034790039  |14e625e722fda9d6f8c074e5a1d2839bda65fc8a1d63bf88b7a2fef59d2a2522%GR%|null   |nan         |null|nan      |\n",
      "|d6b11be7aa5eade440cf61cb5e723ab97f577a9689d5a96de544a51a7f20419e|6446.0  |75.72599792480469 |14e625e722fda9d6f8c074e5a1d2839bda65fc8a1d63bf88b7a2fef59d2a2522%GR%|null   |nan         |null|nan      |\n",
      "|d6b11be7aa5eade440cf61cb5e723ab97f577a9689d5a96de544a51a7f20419e|6446.5  |65.97489929199219 |14e625e722fda9d6f8c074e5a1d2839bda65fc8a1d63bf88b7a2fef59d2a2522%GR%|null   |nan         |null|nan      |\n",
      "|d6b11be7aa5eade440cf61cb5e723ab97f577a9689d5a96de544a51a7f20419e|6447.0  |63.39419937133789 |14e625e722fda9d6f8c074e5a1d2839bda65fc8a1d63bf88b7a2fef59d2a2522%GR%|null   |nan         |null|nan      |\n",
      "|d6b11be7aa5eade440cf61cb5e723ab97f577a9689d5a96de544a51a7f20419e|6447.5  |65.33699798583984 |14e625e722fda9d6f8c074e5a1d2839bda65fc8a1d63bf88b7a2fef59d2a2522%GR%|null   |nan         |null|nan      |\n",
      "|d6b11be7aa5eade440cf61cb5e723ab97f577a9689d5a96de544a51a7f20419e|6448.0  |67.27989959716797 |14e625e722fda9d6f8c074e5a1d2839bda65fc8a1d63bf88b7a2fef59d2a2522%GR%|null   |nan         |null|nan      |\n",
      "+----------------------------------------------------------------+--------+------------------+--------------------------------------------------------------------+-------+------------+----+---------+\n",
      "only showing top 20 rows\n",
      "\n"
     ]
    },
    {
     "name": "stderr",
     "output_type": "stream",
     "text": [
      "                                                                                \r"
     ]
    }
   ],
   "source": [
    "compqc_data_df.filter(col(\"WAI_WELL_H\")==\"d6b11be7aa5eade440cf61cb5e723ab97f577a9689d5a96de544a51a7f20419e\")\\\n",
    "    .select(col(\"WAI_WELL_H\"), col(\"DS_INDEX\"), col(\"GR\"), col(\"GR_orig\"), \n",
    "            col(\"DEEPRES\"), col(\"DEEPRES_orig\"), col(\"RHOB\"), col(\"RHOB_orig\")).show(truncate=False)"
   ]
  },
  {
   "cell_type": "code",
   "execution_count": 13,
   "id": "19bf025e-7a9d-4382-9de1-a4ee110a8465",
   "metadata": {
    "tags": []
   },
   "outputs": [
    {
     "name": "stderr",
     "output_type": "stream",
     "text": [
      "                                                                                \r"
     ]
    }
   ],
   "source": [
    "df_compqc_data = compqc_data_df.toPandas()"
   ]
  },
  {
   "cell_type": "code",
   "execution_count": 14,
   "id": "3b55c143-760e-4097-96cc-ac040ca49115",
   "metadata": {
    "tags": []
   },
   "outputs": [
    {
     "name": "stdout",
     "output_type": "stream",
     "text": [
      "GR DTC SHALRES MEDRES DEEPRES SP CALI DENC NEUT RHOB POR ds_orig_id original GR_min GR_max DTC_min DTC_max SHALRES_min SHALRES_max MEDRES_min MEDRES_max DEEPRES_min DEEPRES_max SP_min SP_max CALI_min CALI_max DENC_min DENC_max NEUT_min NEUT_max RHOB_min RHOB_max POR_min POR_max CALI_orig DEEPRES_orig DENC_orig GR_orig MEDRES_orig NEUT_orig RHOB_orig SHALRES_orig SP_orig DTC_orig DS_INDEX WAI_WELL_H\n"
     ]
    }
   ],
   "source": [
    "print(*df_compqc_data.columns)"
   ]
  },
  {
   "cell_type": "code",
   "execution_count": 24,
   "id": "b38e7edf-461d-4474-a4cd-848153098208",
   "metadata": {
    "tags": []
   },
   "outputs": [
    {
     "data": {
      "text/html": [
       "<div>\n",
       "<style scoped>\n",
       "    .dataframe tbody tr th:only-of-type {\n",
       "        vertical-align: middle;\n",
       "    }\n",
       "\n",
       "    .dataframe tbody tr th {\n",
       "        vertical-align: top;\n",
       "    }\n",
       "\n",
       "    .dataframe thead th {\n",
       "        text-align: right;\n",
       "    }\n",
       "</style>\n",
       "<table border=\"1\" class=\"dataframe\">\n",
       "  <thead>\n",
       "    <tr style=\"text-align: right;\">\n",
       "      <th></th>\n",
       "      <th>ds_ref_id</th>\n",
       "      <th>alias</th>\n",
       "      <th>curvename</th>\n",
       "      <th>log_name</th>\n",
       "    </tr>\n",
       "  </thead>\n",
       "  <tbody>\n",
       "    <tr>\n",
       "      <th>40083</th>\n",
       "      <td>4beb646250eaf00a12e003eda11435e2dc71e098370d889fc30e78dc88e4d524</td>\n",
       "      <td>GR</td>\n",
       "      <td>HGR</td>\n",
       "      <td>3527827D</td>\n",
       "    </tr>\n",
       "    <tr>\n",
       "      <th>40084</th>\n",
       "      <td>4beb646250eaf00a12e003eda11435e2dc71e098370d889fc30e78dc88e4d524</td>\n",
       "      <td>GR</td>\n",
       "      <td>HGR</td>\n",
       "      <td>3527827D</td>\n",
       "    </tr>\n",
       "    <tr>\n",
       "      <th>40085</th>\n",
       "      <td>4beb646250eaf00a12e003eda11435e2dc71e098370d889fc30e78dc88e4d524</td>\n",
       "      <td>GR</td>\n",
       "      <td>HGR</td>\n",
       "      <td>3527827D</td>\n",
       "    </tr>\n",
       "    <tr>\n",
       "      <th>40086</th>\n",
       "      <td>4beb646250eaf00a12e003eda11435e2dc71e098370d889fc30e78dc88e4d524</td>\n",
       "      <td>GR</td>\n",
       "      <td>HGR</td>\n",
       "      <td>3527827D</td>\n",
       "    </tr>\n",
       "    <tr>\n",
       "      <th>40087</th>\n",
       "      <td>4beb646250eaf00a12e003eda11435e2dc71e098370d889fc30e78dc88e4d524</td>\n",
       "      <td>GR</td>\n",
       "      <td>HGR</td>\n",
       "      <td>3527827D</td>\n",
       "    </tr>\n",
       "  </tbody>\n",
       "</table>\n",
       "</div>"
      ],
      "text/plain": [
       "                                                              ds_ref_id alias  \\\n",
       "40083  4beb646250eaf00a12e003eda11435e2dc71e098370d889fc30e78dc88e4d524    GR   \n",
       "40084  4beb646250eaf00a12e003eda11435e2dc71e098370d889fc30e78dc88e4d524    GR   \n",
       "40085  4beb646250eaf00a12e003eda11435e2dc71e098370d889fc30e78dc88e4d524    GR   \n",
       "40086  4beb646250eaf00a12e003eda11435e2dc71e098370d889fc30e78dc88e4d524    GR   \n",
       "40087  4beb646250eaf00a12e003eda11435e2dc71e098370d889fc30e78dc88e4d524    GR   \n",
       "\n",
       "      curvename  log_name  \n",
       "40083       HGR  3527827D  \n",
       "40084       HGR  3527827D  \n",
       "40085       HGR  3527827D  \n",
       "40086       HGR  3527827D  \n",
       "40087       HGR  3527827D  "
      ]
     },
     "execution_count": 24,
     "metadata": {},
     "output_type": "execute_result"
    }
   ],
   "source": [
    "df_famqc_udata[[\"ds_ref_id\", \"alias\", \"curvename\", \"log_name\"]][df_famqc_udata[\"alias\"]==\"GR\"].head()"
   ]
  },
  {
   "cell_type": "code",
   "execution_count": 29,
   "id": "c9d1f0dc-057b-4a54-bf83-627493d43372",
   "metadata": {
    "tags": []
   },
   "outputs": [
    {
     "data": {
      "text/html": [
       "<div>\n",
       "<style scoped>\n",
       "    .dataframe tbody tr th:only-of-type {\n",
       "        vertical-align: middle;\n",
       "    }\n",
       "\n",
       "    .dataframe tbody tr th {\n",
       "        vertical-align: top;\n",
       "    }\n",
       "\n",
       "    .dataframe thead th {\n",
       "        text-align: right;\n",
       "    }\n",
       "</style>\n",
       "<table border=\"1\" class=\"dataframe\">\n",
       "  <thead>\n",
       "    <tr style=\"text-align: right;\">\n",
       "      <th></th>\n",
       "      <th>WAI_WELL_H</th>\n",
       "      <th>DS_INDEX</th>\n",
       "      <th>GR</th>\n",
       "      <th>GR_orig</th>\n",
       "      <th>DEEPRES</th>\n",
       "      <th>DEEPRES_orig</th>\n",
       "      <th>RHOB</th>\n",
       "      <th>RHOB_orig</th>\n",
       "    </tr>\n",
       "  </thead>\n",
       "  <tbody>\n",
       "    <tr>\n",
       "      <th>0</th>\n",
       "      <td>2199194ab8ab39b217d368c274a0ef0771a6a27fb5c159b5834ce94f30cbdc66</td>\n",
       "      <td>1145.0</td>\n",
       "      <td>55.177399</td>\n",
       "      <td>959981c470b9f6ced701ef7fafdc3c14434777b55eacbb6a91388a9243b32bb4%HGR%</td>\n",
       "      <td>NaN</td>\n",
       "      <td>nan</td>\n",
       "      <td>NaN</td>\n",
       "      <td>nan</td>\n",
       "    </tr>\n",
       "    <tr>\n",
       "      <th>1</th>\n",
       "      <td>2199194ab8ab39b217d368c274a0ef0771a6a27fb5c159b5834ce94f30cbdc66</td>\n",
       "      <td>1145.5</td>\n",
       "      <td>60.431499</td>\n",
       "      <td>959981c470b9f6ced701ef7fafdc3c14434777b55eacbb6a91388a9243b32bb4%HGR%</td>\n",
       "      <td>NaN</td>\n",
       "      <td>nan</td>\n",
       "      <td>NaN</td>\n",
       "      <td>nan</td>\n",
       "    </tr>\n",
       "    <tr>\n",
       "      <th>2</th>\n",
       "      <td>2199194ab8ab39b217d368c274a0ef0771a6a27fb5c159b5834ce94f30cbdc66</td>\n",
       "      <td>1146.0</td>\n",
       "      <td>70.942802</td>\n",
       "      <td>959981c470b9f6ced701ef7fafdc3c14434777b55eacbb6a91388a9243b32bb4%HGR%</td>\n",
       "      <td>NaN</td>\n",
       "      <td>nan</td>\n",
       "      <td>NaN</td>\n",
       "      <td>nan</td>\n",
       "    </tr>\n",
       "    <tr>\n",
       "      <th>3</th>\n",
       "      <td>2199194ab8ab39b217d368c274a0ef0771a6a27fb5c159b5834ce94f30cbdc66</td>\n",
       "      <td>1146.5</td>\n",
       "      <td>42.914600</td>\n",
       "      <td>959981c470b9f6ced701ef7fafdc3c14434777b55eacbb6a91388a9243b32bb4%HGR%</td>\n",
       "      <td>NaN</td>\n",
       "      <td>nan</td>\n",
       "      <td>NaN</td>\n",
       "      <td>nan</td>\n",
       "    </tr>\n",
       "    <tr>\n",
       "      <th>4</th>\n",
       "      <td>2199194ab8ab39b217d368c274a0ef0771a6a27fb5c159b5834ce94f30cbdc66</td>\n",
       "      <td>1147.0</td>\n",
       "      <td>66.563202</td>\n",
       "      <td>959981c470b9f6ced701ef7fafdc3c14434777b55eacbb6a91388a9243b32bb4%HGR%</td>\n",
       "      <td>NaN</td>\n",
       "      <td>nan</td>\n",
       "      <td>NaN</td>\n",
       "      <td>nan</td>\n",
       "    </tr>\n",
       "  </tbody>\n",
       "</table>\n",
       "</div>"
      ],
      "text/plain": [
       "                                                         WAI_WELL_H  DS_INDEX  \\\n",
       "0  2199194ab8ab39b217d368c274a0ef0771a6a27fb5c159b5834ce94f30cbdc66    1145.0   \n",
       "1  2199194ab8ab39b217d368c274a0ef0771a6a27fb5c159b5834ce94f30cbdc66    1145.5   \n",
       "2  2199194ab8ab39b217d368c274a0ef0771a6a27fb5c159b5834ce94f30cbdc66    1146.0   \n",
       "3  2199194ab8ab39b217d368c274a0ef0771a6a27fb5c159b5834ce94f30cbdc66    1146.5   \n",
       "4  2199194ab8ab39b217d368c274a0ef0771a6a27fb5c159b5834ce94f30cbdc66    1147.0   \n",
       "\n",
       "          GR  \\\n",
       "0  55.177399   \n",
       "1  60.431499   \n",
       "2  70.942802   \n",
       "3  42.914600   \n",
       "4  66.563202   \n",
       "\n",
       "                                                                 GR_orig  \\\n",
       "0  959981c470b9f6ced701ef7fafdc3c14434777b55eacbb6a91388a9243b32bb4%HGR%   \n",
       "1  959981c470b9f6ced701ef7fafdc3c14434777b55eacbb6a91388a9243b32bb4%HGR%   \n",
       "2  959981c470b9f6ced701ef7fafdc3c14434777b55eacbb6a91388a9243b32bb4%HGR%   \n",
       "3  959981c470b9f6ced701ef7fafdc3c14434777b55eacbb6a91388a9243b32bb4%HGR%   \n",
       "4  959981c470b9f6ced701ef7fafdc3c14434777b55eacbb6a91388a9243b32bb4%HGR%   \n",
       "\n",
       "   DEEPRES DEEPRES_orig  RHOB RHOB_orig  \n",
       "0      NaN          nan   NaN       nan  \n",
       "1      NaN          nan   NaN       nan  \n",
       "2      NaN          nan   NaN       nan  \n",
       "3      NaN          nan   NaN       nan  \n",
       "4      NaN          nan   NaN       nan  "
      ]
     },
     "execution_count": 29,
     "metadata": {},
     "output_type": "execute_result"
    }
   ],
   "source": [
    "df_compqc_data[[\"WAI_WELL_H\", \"DS_INDEX\", \"GR\", \"GR_orig\", \"DEEPRES\", \"DEEPRES_orig\", \"RHOB\", \"RHOB_orig\"]].head()"
   ]
  },
  {
   "cell_type": "code",
   "execution_count": 101,
   "id": "8d2fc000-d760-4cf7-839a-416f85ea7131",
   "metadata": {
    "tags": []
   },
   "outputs": [],
   "source": [
    "ALIAS = [\"GR\", \"DEEPRES\", \"RHOB\"]\n",
    "\n",
    "df_final = pd.DataFrame()\n",
    "initial = True\n",
    "\n",
    "for col in df_compqc_data.columns:\n",
    "    if \"_orig\" in col and col.split(\"_\", 1)[0] in ALIAS:\n",
    "        \n",
    "        alias = col.split(\"_\", 1)[0]\n",
    "        \n",
    "        df_temp = df_famqc_udata[df_famqc_udata[\"alias\"]==alias]\\\n",
    "                        [[\"ds_ref_id\", \"alias\", \"curvename\", \"log_name\"]].drop_duplicates().copy()\n",
    "        \n",
    "        df_alias = df_compqc_data[[\"WAI_WELL_H\", \"DS_INDEX\", alias, col]].copy()\n",
    "        df_alias[\"ds_ref_id\"] = df_alias[col].str.split(\"%\").str[0]\n",
    "        df_alias = pd.merge(df_alias, df_temp, how=\"left\", on=[\"ds_ref_id\"])\n",
    "        df_alias.drop(columns=[col, \"alias\"], inplace=True)\n",
    "        df_alias.rename(columns={\"ds_ref_id\" : col, \"curvename\" : f\"{alias}_curvename\",\n",
    "                                 \"log_name\" : f\"{alias}_log_name\"}, inplace=True)\n",
    "        \n",
    "        if initial:\n",
    "            df_final = pd.concat([df_final, df_alias], axis=1)\n",
    "            initial = False\n",
    "        else:\n",
    "            df_final = pd.concat([df_final, df_alias[[alias, col, f\"{alias}_curvename\", f\"{alias}_log_name\"]]], axis=1)"
   ]
  },
  {
   "cell_type": "code",
   "execution_count": 102,
   "id": "03f8e3b0-4534-4a61-a42a-4709940b0b93",
   "metadata": {
    "tags": []
   },
   "outputs": [
    {
     "data": {
      "text/html": [
       "<div>\n",
       "<style scoped>\n",
       "    .dataframe tbody tr th:only-of-type {\n",
       "        vertical-align: middle;\n",
       "    }\n",
       "\n",
       "    .dataframe tbody tr th {\n",
       "        vertical-align: top;\n",
       "    }\n",
       "\n",
       "    .dataframe thead th {\n",
       "        text-align: right;\n",
       "    }\n",
       "</style>\n",
       "<table border=\"1\" class=\"dataframe\">\n",
       "  <thead>\n",
       "    <tr style=\"text-align: right;\">\n",
       "      <th></th>\n",
       "      <th>WAI_WELL_H</th>\n",
       "      <th>DS_INDEX</th>\n",
       "      <th>DEEPRES</th>\n",
       "      <th>DEEPRES_orig</th>\n",
       "      <th>DEEPRES_curvename</th>\n",
       "      <th>DEEPRES_log_name</th>\n",
       "      <th>GR</th>\n",
       "      <th>GR_orig</th>\n",
       "      <th>GR_curvename</th>\n",
       "      <th>GR_log_name</th>\n",
       "      <th>RHOB</th>\n",
       "      <th>RHOB_orig</th>\n",
       "      <th>RHOB_curvename</th>\n",
       "      <th>RHOB_log_name</th>\n",
       "    </tr>\n",
       "  </thead>\n",
       "  <tbody>\n",
       "    <tr>\n",
       "      <th>0</th>\n",
       "      <td>2199194ab8ab39b217d368c274a0ef0771a6a27fb5c159b5834ce94f30cbdc66</td>\n",
       "      <td>1145.0</td>\n",
       "      <td>NaN</td>\n",
       "      <td>nan</td>\n",
       "      <td>NaN</td>\n",
       "      <td>NaN</td>\n",
       "      <td>55.177399</td>\n",
       "      <td>959981c470b9f6ced701ef7fafdc3c14434777b55eacbb6a91388a9243b32bb4</td>\n",
       "      <td>HGR</td>\n",
       "      <td>3528243B</td>\n",
       "      <td>NaN</td>\n",
       "      <td>nan</td>\n",
       "      <td>NaN</td>\n",
       "      <td>NaN</td>\n",
       "    </tr>\n",
       "    <tr>\n",
       "      <th>1</th>\n",
       "      <td>2199194ab8ab39b217d368c274a0ef0771a6a27fb5c159b5834ce94f30cbdc66</td>\n",
       "      <td>1145.5</td>\n",
       "      <td>NaN</td>\n",
       "      <td>nan</td>\n",
       "      <td>NaN</td>\n",
       "      <td>NaN</td>\n",
       "      <td>60.431499</td>\n",
       "      <td>959981c470b9f6ced701ef7fafdc3c14434777b55eacbb6a91388a9243b32bb4</td>\n",
       "      <td>HGR</td>\n",
       "      <td>3528243B</td>\n",
       "      <td>NaN</td>\n",
       "      <td>nan</td>\n",
       "      <td>NaN</td>\n",
       "      <td>NaN</td>\n",
       "    </tr>\n",
       "    <tr>\n",
       "      <th>2</th>\n",
       "      <td>2199194ab8ab39b217d368c274a0ef0771a6a27fb5c159b5834ce94f30cbdc66</td>\n",
       "      <td>1146.0</td>\n",
       "      <td>NaN</td>\n",
       "      <td>nan</td>\n",
       "      <td>NaN</td>\n",
       "      <td>NaN</td>\n",
       "      <td>70.942802</td>\n",
       "      <td>959981c470b9f6ced701ef7fafdc3c14434777b55eacbb6a91388a9243b32bb4</td>\n",
       "      <td>HGR</td>\n",
       "      <td>3528243B</td>\n",
       "      <td>NaN</td>\n",
       "      <td>nan</td>\n",
       "      <td>NaN</td>\n",
       "      <td>NaN</td>\n",
       "    </tr>\n",
       "    <tr>\n",
       "      <th>3</th>\n",
       "      <td>2199194ab8ab39b217d368c274a0ef0771a6a27fb5c159b5834ce94f30cbdc66</td>\n",
       "      <td>1146.5</td>\n",
       "      <td>NaN</td>\n",
       "      <td>nan</td>\n",
       "      <td>NaN</td>\n",
       "      <td>NaN</td>\n",
       "      <td>42.914600</td>\n",
       "      <td>959981c470b9f6ced701ef7fafdc3c14434777b55eacbb6a91388a9243b32bb4</td>\n",
       "      <td>HGR</td>\n",
       "      <td>3528243B</td>\n",
       "      <td>NaN</td>\n",
       "      <td>nan</td>\n",
       "      <td>NaN</td>\n",
       "      <td>NaN</td>\n",
       "    </tr>\n",
       "    <tr>\n",
       "      <th>4</th>\n",
       "      <td>2199194ab8ab39b217d368c274a0ef0771a6a27fb5c159b5834ce94f30cbdc66</td>\n",
       "      <td>1147.0</td>\n",
       "      <td>NaN</td>\n",
       "      <td>nan</td>\n",
       "      <td>NaN</td>\n",
       "      <td>NaN</td>\n",
       "      <td>66.563202</td>\n",
       "      <td>959981c470b9f6ced701ef7fafdc3c14434777b55eacbb6a91388a9243b32bb4</td>\n",
       "      <td>HGR</td>\n",
       "      <td>3528243B</td>\n",
       "      <td>NaN</td>\n",
       "      <td>nan</td>\n",
       "      <td>NaN</td>\n",
       "      <td>NaN</td>\n",
       "    </tr>\n",
       "    <tr>\n",
       "      <th>...</th>\n",
       "      <td>...</td>\n",
       "      <td>...</td>\n",
       "      <td>...</td>\n",
       "      <td>...</td>\n",
       "      <td>...</td>\n",
       "      <td>...</td>\n",
       "      <td>...</td>\n",
       "      <td>...</td>\n",
       "      <td>...</td>\n",
       "      <td>...</td>\n",
       "      <td>...</td>\n",
       "      <td>...</td>\n",
       "      <td>...</td>\n",
       "      <td>...</td>\n",
       "    </tr>\n",
       "    <tr>\n",
       "      <th>120863</th>\n",
       "      <td>7ac5a8127b65ff1bd39f90f9ffe6de9991b419c87c534aec77b54696ab2462dd</td>\n",
       "      <td>14063.5</td>\n",
       "      <td>NaN</td>\n",
       "      <td>nan</td>\n",
       "      <td>NaN</td>\n",
       "      <td>NaN</td>\n",
       "      <td>NaN</td>\n",
       "      <td>nan</td>\n",
       "      <td>NaN</td>\n",
       "      <td>NaN</td>\n",
       "      <td>NaN</td>\n",
       "      <td>nan</td>\n",
       "      <td>NaN</td>\n",
       "      <td>NaN</td>\n",
       "    </tr>\n",
       "    <tr>\n",
       "      <th>120864</th>\n",
       "      <td>7ac5a8127b65ff1bd39f90f9ffe6de9991b419c87c534aec77b54696ab2462dd</td>\n",
       "      <td>14064.0</td>\n",
       "      <td>NaN</td>\n",
       "      <td>nan</td>\n",
       "      <td>NaN</td>\n",
       "      <td>NaN</td>\n",
       "      <td>NaN</td>\n",
       "      <td>nan</td>\n",
       "      <td>NaN</td>\n",
       "      <td>NaN</td>\n",
       "      <td>NaN</td>\n",
       "      <td>nan</td>\n",
       "      <td>NaN</td>\n",
       "      <td>NaN</td>\n",
       "    </tr>\n",
       "    <tr>\n",
       "      <th>120865</th>\n",
       "      <td>7ac5a8127b65ff1bd39f90f9ffe6de9991b419c87c534aec77b54696ab2462dd</td>\n",
       "      <td>14064.5</td>\n",
       "      <td>NaN</td>\n",
       "      <td>nan</td>\n",
       "      <td>NaN</td>\n",
       "      <td>NaN</td>\n",
       "      <td>NaN</td>\n",
       "      <td>nan</td>\n",
       "      <td>NaN</td>\n",
       "      <td>NaN</td>\n",
       "      <td>NaN</td>\n",
       "      <td>nan</td>\n",
       "      <td>NaN</td>\n",
       "      <td>NaN</td>\n",
       "    </tr>\n",
       "    <tr>\n",
       "      <th>120866</th>\n",
       "      <td>7ac5a8127b65ff1bd39f90f9ffe6de9991b419c87c534aec77b54696ab2462dd</td>\n",
       "      <td>14065.0</td>\n",
       "      <td>NaN</td>\n",
       "      <td>nan</td>\n",
       "      <td>NaN</td>\n",
       "      <td>NaN</td>\n",
       "      <td>NaN</td>\n",
       "      <td>nan</td>\n",
       "      <td>NaN</td>\n",
       "      <td>NaN</td>\n",
       "      <td>NaN</td>\n",
       "      <td>nan</td>\n",
       "      <td>NaN</td>\n",
       "      <td>NaN</td>\n",
       "    </tr>\n",
       "    <tr>\n",
       "      <th>120867</th>\n",
       "      <td>7ac5a8127b65ff1bd39f90f9ffe6de9991b419c87c534aec77b54696ab2462dd</td>\n",
       "      <td>14065.5</td>\n",
       "      <td>NaN</td>\n",
       "      <td>nan</td>\n",
       "      <td>NaN</td>\n",
       "      <td>NaN</td>\n",
       "      <td>NaN</td>\n",
       "      <td>nan</td>\n",
       "      <td>NaN</td>\n",
       "      <td>NaN</td>\n",
       "      <td>NaN</td>\n",
       "      <td>nan</td>\n",
       "      <td>NaN</td>\n",
       "      <td>NaN</td>\n",
       "    </tr>\n",
       "  </tbody>\n",
       "</table>\n",
       "<p>120868 rows × 14 columns</p>\n",
       "</div>"
      ],
      "text/plain": [
       "                                                              WAI_WELL_H  \\\n",
       "0       2199194ab8ab39b217d368c274a0ef0771a6a27fb5c159b5834ce94f30cbdc66   \n",
       "1       2199194ab8ab39b217d368c274a0ef0771a6a27fb5c159b5834ce94f30cbdc66   \n",
       "2       2199194ab8ab39b217d368c274a0ef0771a6a27fb5c159b5834ce94f30cbdc66   \n",
       "3       2199194ab8ab39b217d368c274a0ef0771a6a27fb5c159b5834ce94f30cbdc66   \n",
       "4       2199194ab8ab39b217d368c274a0ef0771a6a27fb5c159b5834ce94f30cbdc66   \n",
       "...                                                                  ...   \n",
       "120863  7ac5a8127b65ff1bd39f90f9ffe6de9991b419c87c534aec77b54696ab2462dd   \n",
       "120864  7ac5a8127b65ff1bd39f90f9ffe6de9991b419c87c534aec77b54696ab2462dd   \n",
       "120865  7ac5a8127b65ff1bd39f90f9ffe6de9991b419c87c534aec77b54696ab2462dd   \n",
       "120866  7ac5a8127b65ff1bd39f90f9ffe6de9991b419c87c534aec77b54696ab2462dd   \n",
       "120867  7ac5a8127b65ff1bd39f90f9ffe6de9991b419c87c534aec77b54696ab2462dd   \n",
       "\n",
       "        DS_INDEX  DEEPRES DEEPRES_orig DEEPRES_curvename DEEPRES_log_name  \\\n",
       "0         1145.0      NaN          nan               NaN              NaN   \n",
       "1         1145.5      NaN          nan               NaN              NaN   \n",
       "2         1146.0      NaN          nan               NaN              NaN   \n",
       "3         1146.5      NaN          nan               NaN              NaN   \n",
       "4         1147.0      NaN          nan               NaN              NaN   \n",
       "...          ...      ...          ...               ...              ...   \n",
       "120863   14063.5      NaN          nan               NaN              NaN   \n",
       "120864   14064.0      NaN          nan               NaN              NaN   \n",
       "120865   14064.5      NaN          nan               NaN              NaN   \n",
       "120866   14065.0      NaN          nan               NaN              NaN   \n",
       "120867   14065.5      NaN          nan               NaN              NaN   \n",
       "\n",
       "               GR  \\\n",
       "0       55.177399   \n",
       "1       60.431499   \n",
       "2       70.942802   \n",
       "3       42.914600   \n",
       "4       66.563202   \n",
       "...           ...   \n",
       "120863        NaN   \n",
       "120864        NaN   \n",
       "120865        NaN   \n",
       "120866        NaN   \n",
       "120867        NaN   \n",
       "\n",
       "                                                                 GR_orig  \\\n",
       "0       959981c470b9f6ced701ef7fafdc3c14434777b55eacbb6a91388a9243b32bb4   \n",
       "1       959981c470b9f6ced701ef7fafdc3c14434777b55eacbb6a91388a9243b32bb4   \n",
       "2       959981c470b9f6ced701ef7fafdc3c14434777b55eacbb6a91388a9243b32bb4   \n",
       "3       959981c470b9f6ced701ef7fafdc3c14434777b55eacbb6a91388a9243b32bb4   \n",
       "4       959981c470b9f6ced701ef7fafdc3c14434777b55eacbb6a91388a9243b32bb4   \n",
       "...                                                                  ...   \n",
       "120863                                                               nan   \n",
       "120864                                                               nan   \n",
       "120865                                                               nan   \n",
       "120866                                                               nan   \n",
       "120867                                                               nan   \n",
       "\n",
       "       GR_curvename GR_log_name  RHOB RHOB_orig RHOB_curvename RHOB_log_name  \n",
       "0               HGR    3528243B   NaN       nan            NaN           NaN  \n",
       "1               HGR    3528243B   NaN       nan            NaN           NaN  \n",
       "2               HGR    3528243B   NaN       nan            NaN           NaN  \n",
       "3               HGR    3528243B   NaN       nan            NaN           NaN  \n",
       "4               HGR    3528243B   NaN       nan            NaN           NaN  \n",
       "...             ...         ...   ...       ...            ...           ...  \n",
       "120863          NaN         NaN   NaN       nan            NaN           NaN  \n",
       "120864          NaN         NaN   NaN       nan            NaN           NaN  \n",
       "120865          NaN         NaN   NaN       nan            NaN           NaN  \n",
       "120866          NaN         NaN   NaN       nan            NaN           NaN  \n",
       "120867          NaN         NaN   NaN       nan            NaN           NaN  \n",
       "\n",
       "[120868 rows x 14 columns]"
      ]
     },
     "execution_count": 102,
     "metadata": {},
     "output_type": "execute_result"
    }
   ],
   "source": [
    "df_final"
   ]
  },
  {
   "cell_type": "code",
   "execution_count": 103,
   "id": "510b2552-f779-4145-9798-bf7e14e2a82b",
   "metadata": {},
   "outputs": [],
   "source": [
    "df_final.to_csv(\"detaild_composite_and_best_logs.csv\")"
   ]
  },
  {
   "cell_type": "code",
   "execution_count": null,
   "id": "858288fe-cf5e-449a-83f8-2c25d33ece8f",
   "metadata": {},
   "outputs": [],
   "source": []
  },
  {
   "cell_type": "code",
   "execution_count": null,
   "id": "288377f1-58fc-45e8-849e-cdaed47d3090",
   "metadata": {},
   "outputs": [],
   "source": []
  },
  {
   "cell_type": "code",
   "execution_count": null,
   "id": "46de1aa1-b171-4b29-83af-0f02baa0b4e6",
   "metadata": {},
   "outputs": [],
   "source": []
  },
  {
   "cell_type": "code",
   "execution_count": null,
   "id": "612e9a61-858c-41a9-8b77-d1a90bdceff6",
   "metadata": {},
   "outputs": [],
   "source": []
  },
  {
   "cell_type": "code",
   "execution_count": null,
   "id": "70d4cd6f-527f-4526-bc08-97613b236a3a",
   "metadata": {},
   "outputs": [],
   "source": []
  }
 ],
 "metadata": {
  "kernelspec": {
   "display_name": "Python 3 (ipykernel)",
   "language": "python",
   "name": "python3"
  },
  "language_info": {
   "codemirror_mode": {
    "name": "ipython",
    "version": 3
   },
   "file_extension": ".py",
   "mimetype": "text/x-python",
   "name": "python",
   "nbconvert_exporter": "python",
   "pygments_lexer": "ipython3",
   "version": "3.10.12"
  }
 },
 "nbformat": 4,
 "nbformat_minor": 5
}
